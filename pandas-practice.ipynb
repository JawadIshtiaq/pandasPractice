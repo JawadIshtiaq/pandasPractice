{
 "cells": [
  {
   "cell_type": "raw",
   "id": "3f865e12",
   "metadata": {
    "papermill": {
     "duration": 0.002068,
     "end_time": "2023-08-18T12:17:17.926815",
     "exception": false,
     "start_time": "2023-08-18T12:17:17.924747",
     "status": "completed"
    },
    "tags": []
   },
   "source": [
    "import pandas As pd\n",
    "import numpy as np"
   ]
  }
 ],
 "metadata": {
  "kernelspec": {
   "display_name": "Python 3",
   "language": "python",
   "name": "python3"
  },
  "language_info": {
   "codemirror_mode": {
    "name": "ipython",
    "version": 3
   },
   "file_extension": ".py",
   "mimetype": "text/x-python",
   "name": "python",
   "nbconvert_exporter": "python",
   "pygments_lexer": "ipython3",
   "version": "3.10.12"
  },
  "papermill": {
   "default_parameters": {},
   "duration": 15.55153,
   "end_time": "2023-08-18T12:17:19.261664",
   "environment_variables": {},
   "exception": null,
   "input_path": "__notebook__.ipynb",
   "output_path": "__notebook__.ipynb",
   "parameters": {},
   "start_time": "2023-08-18T12:17:03.710134",
   "version": "2.4.0"
  }
 },
 "nbformat": 4,
 "nbformat_minor": 5
}
